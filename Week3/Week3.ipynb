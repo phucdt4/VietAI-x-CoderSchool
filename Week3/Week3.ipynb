{
 "cells": [
  {
   "cell_type": "markdown",
   "id": "82d12dc0",
   "metadata": {},
   "source": [
    "# Import "
   ]
  },
  {
   "cell_type": "code",
   "id": "43026d40",
   "metadata": {
    "ExecuteTime": {
     "end_time": "2024-10-23T09:26:37.472762Z",
     "start_time": "2024-10-23T09:26:35.975665Z"
    }
   },
   "source": [
    "import gensim.downloader as api\n",
    "import numpy as np"
   ],
   "outputs": [],
   "execution_count": 1
  },
  {
   "cell_type": "code",
   "id": "f0ca5623",
   "metadata": {
    "ExecuteTime": {
     "end_time": "2024-10-23T09:33:02.246297Z",
     "start_time": "2024-10-23T09:26:37.495054Z"
    }
   },
   "source": [
    "# 25, 50, 100 or 200. Số càng lớn thì càng chính xác, nhưng chạy càng lâu các bạn nhé\n",
    "model = api.load(\"glove-twitter-200\")\n",
    "word = \"beautiful\"\n",
    "print(model[word])"
   ],
   "outputs": [
    {
     "name": "stdout",
     "output_type": "stream",
     "text": [
      "[==================================================] 100.0% 758.5/758.5MB downloaded\n",
      "[ 1.5570e-01 -3.1625e-01 -2.1250e-01  4.1405e-01 -2.4336e-01 -2.5814e-01\n",
      "  6.0198e-01 -1.2874e-02 -2.5801e-01 -1.1705e-01 -1.0161e+00 -3.4759e-01\n",
      " -5.9778e-01 -5.2477e-02 -5.3001e-01  3.7903e-01 -8.3192e-02 -3.9779e-01\n",
      "  5.7424e-02 -5.0426e-01  3.7946e-01 -6.5643e-01 -2.7971e-01  4.0682e-01\n",
      "  8.1117e-02  1.0869e+00 -6.1673e-01  5.2669e-01  3.1021e-01  5.6527e-03\n",
      "  4.4281e-02  9.0971e-03  1.3414e-01  2.0696e-01 -1.0175e-01 -3.5890e-01\n",
      "  1.9712e-01 -4.0642e-01  4.3239e-02  2.0279e-01 -2.4207e-01 -6.4675e-01\n",
      "  7.8314e-03  4.2094e-02  8.0452e-02  3.2765e-01  4.7841e-01 -4.1913e-02\n",
      " -9.0236e-01 -2.0209e-01 -5.6725e-01  2.3022e-01 -2.5976e-01 -6.0808e-01\n",
      "  1.4408e-01  1.0924e-01  4.2314e-01 -3.0322e-02  2.1711e-01 -3.6142e-01\n",
      " -1.5254e-01 -3.4457e-01  1.6548e-01 -4.1695e-01  2.5581e-01  3.7149e-01\n",
      " -4.1998e-01  2.7614e-01 -2.2522e-01 -7.7013e-02 -8.3949e-02 -2.6755e-01\n",
      "  2.0316e-01  2.9918e-01  4.1178e-01  1.8117e-01  6.5023e-03 -6.1069e-02\n",
      " -3.2265e-01  4.7050e-01  9.1838e-01  2.6017e-01  3.1159e-01 -5.3799e-02\n",
      "  8.4250e-02  6.3240e-02  5.6744e-01  5.9088e-01 -5.4755e-01  1.3245e-01\n",
      "  2.1076e-02 -1.1548e-01 -2.1673e-01  1.3272e-02 -3.4715e-01 -1.1700e-01\n",
      "  1.9569e-01 -1.5177e-01  4.5602e-01 -6.7312e-02 -6.9728e-01  4.9557e-01\n",
      " -4.3653e-01 -3.0676e-01 -7.4978e-02  5.1795e-01  6.3797e-01 -2.0271e-01\n",
      " -5.0799e-01  5.1787e-01 -1.0125e-01 -3.8138e-04  1.5804e-01  9.3620e-01\n",
      " -1.1985e-01 -5.3944e-01 -7.5679e-01 -4.1353e-01 -3.2972e-01  6.2269e-01\n",
      "  2.6107e-01  8.7516e-02  2.5388e-03  4.4929e-02 -1.8619e-01  1.2925e-01\n",
      "  2.2935e-01 -7.7013e-01  8.8741e-02  3.5210e-01  8.8734e-01 -9.9508e-02\n",
      " -2.8114e-02  4.1568e-01  3.5324e-01  6.1947e-01  1.9733e-01 -7.3618e-02\n",
      " -6.0073e-01  1.7546e-01 -1.8385e-01  2.9349e-01  3.9509e-01 -1.0240e-01\n",
      " -3.8513e-01  6.7502e-02 -3.8083e-01  2.9146e-01 -8.3121e-02  1.0551e-02\n",
      " -1.7029e-01 -1.1733e-01 -4.7544e+00  1.4895e-01  7.3434e-02  1.3058e-01\n",
      " -2.0732e-01  2.6272e-01  1.0694e-01  4.1124e-03  4.0416e-01 -4.9547e-01\n",
      " -1.0541e+00  4.6204e-01  2.6830e-01 -3.7641e-01  3.2295e-02 -2.4331e-01\n",
      "  1.7689e-01  5.2140e-01  1.5279e-01 -6.0996e-01  1.1451e-01  1.8434e-01\n",
      "  3.8155e-01  9.0601e-01  1.1813e-01 -7.9879e-01  3.6207e-01 -2.2683e-01\n",
      "  1.2397e-01 -9.5020e-02  5.3296e-04 -1.1416e-02 -2.2240e-01 -4.7936e-01\n",
      " -6.6377e-01  2.7190e-01 -1.3010e-01 -3.5033e-01  4.5032e-01 -1.4985e-01\n",
      "  5.9429e-01  2.3283e-01  4.1755e-01  2.2472e-01 -9.2631e-03 -7.3651e-01\n",
      " -3.7381e-01 -5.1844e-01]\n"
     ]
    }
   ],
   "execution_count": 2
  },
  {
   "cell_type": "markdown",
   "id": "1831d560",
   "metadata": {},
   "source": [
    "# Section 1 for word2vec"
   ]
  },
  {
   "cell_type": "code",
   "id": "209b3dc4",
   "metadata": {
    "ExecuteTime": {
     "end_time": "2024-10-23T09:56:49.484788Z",
     "start_time": "2024-10-23T09:56:48.840146Z"
    }
   },
   "source": [
    "print(\"1----------\")\n",
    "result = model.most_similar(word, topn=10)\n",
    "print(result)"
   ],
   "outputs": [
    {
     "name": "stdout",
     "output_type": "stream",
     "text": [
      "1----------\n",
      "[('gorgeous', 0.8635486364364624), ('amazing', 0.8066422343254089), ('lovely', 0.8024446964263916), ('wonderful', 0.7974166870117188), ('stunning', 0.7667909860610962), ('perfect', 0.7646693587303162), ('pretty', 0.7626513242721558), ('love', 0.7306696772575378), ('great', 0.7199928760528564), ('nice', 0.7046647071838379)]\n"
     ]
    }
   ],
   "execution_count": 3
  },
  {
   "cell_type": "markdown",
   "id": "b2bb52cb",
   "metadata": {},
   "source": [
    "# Section 2 for word2vec"
   ]
  },
  {
   "cell_type": "code",
   "id": "470049ec",
   "metadata": {
    "ExecuteTime": {
     "end_time": "2024-10-23T09:57:20.701566Z",
     "start_time": "2024-10-23T09:57:20.662015Z"
    }
   },
   "source": [
    "print(\"2----------\")\n",
    "result = model.most_similar(positive=[\"january\", \"february\"], topn=10)\n",
    "print(result)"
   ],
   "outputs": [
    {
     "name": "stdout",
     "output_type": "stream",
     "text": [
      "2----------\n",
      "[('december', 0.9076204299926758), ('june', 0.9018449187278748), ('march', 0.8975363373756409), ('october', 0.894588053226471), ('august', 0.8828886151313782), ('july', 0.8735243082046509), ('november', 0.8638648390769958), ('september', 0.853484034538269), ('april', 0.8389039635658264), ('feb.', 0.7601770758628845)]\n"
     ]
    }
   ],
   "execution_count": 4
  },
  {
   "cell_type": "markdown",
   "id": "e0f0dccf",
   "metadata": {},
   "source": [
    "# Section 3 for word2vec"
   ]
  },
  {
   "cell_type": "code",
   "id": "fe3d7b10",
   "metadata": {
    "ExecuteTime": {
     "end_time": "2024-10-23T09:57:38.609627Z",
     "start_time": "2024-10-23T09:57:38.601720Z"
    }
   },
   "source": [
    "print(\"3----------\")\n",
    "result = model.similarity(\"man\", \"woman\")\n",
    "print(result)"
   ],
   "outputs": [
    {
     "name": "stdout",
     "output_type": "stream",
     "text": [
      "3----------\n",
      "0.66136074\n"
     ]
    }
   ],
   "execution_count": 5
  },
  {
   "cell_type": "markdown",
   "id": "5b0882e6",
   "metadata": {},
   "source": [
    "# Section 4 for word2vec"
   ]
  },
  {
   "cell_type": "code",
   "id": "44e9abb9",
   "metadata": {
    "ExecuteTime": {
     "end_time": "2024-10-23T09:57:53.388897Z",
     "start_time": "2024-10-23T09:57:53.342715Z"
    }
   },
   "source": [
    "print(\"4----------\")\n",
    "result = model.most_similar(positive=[\"woman\", \"king\"], negative=[\"man\"], topn=1)\n",
    "print(result)"
   ],
   "outputs": [
    {
     "name": "stdout",
     "output_type": "stream",
     "text": [
      "4----------\n",
      "[('queen', 0.6820896863937378)]\n"
     ]
    }
   ],
   "execution_count": 6
  },
  {
   "cell_type": "markdown",
   "id": "699ce02d",
   "metadata": {},
   "source": [
    "# Section 5 for word2vec"
   ]
  },
  {
   "cell_type": "code",
   "id": "839db716",
   "metadata": {
    "ExecuteTime": {
     "end_time": "2024-10-23T09:58:00.071637Z",
     "start_time": "2024-10-23T09:58:00.032703Z"
    }
   },
   "source": [
    "print(\"5----------\")\n",
    "result = model.most_similar(positive=[\"berlin\", \"vietnam\"], negative=[\"hanoi\"], topn=1)\n",
    "print(result)"
   ],
   "outputs": [
    {
     "name": "stdout",
     "output_type": "stream",
     "text": [
      "5----------\n",
      "[('germany', 0.626724362373352)]\n"
     ]
    }
   ],
   "execution_count": 7
  },
  {
   "cell_type": "markdown",
   "id": "56cb5216",
   "metadata": {},
   "source": [
    "# Section 6 for word2vec"
   ]
  },
  {
   "cell_type": "code",
   "id": "3f7d3740",
   "metadata": {
    "ExecuteTime": {
     "end_time": "2024-10-23T09:58:29.639784Z",
     "start_time": "2024-10-23T09:58:29.632080Z"
    }
   },
   "source": [
    "print(\"6----------\")\n",
    "result = model.similarity(\"marriage\", \"happiness\")\n",
    "print(result)"
   ],
   "outputs": [
    {
     "name": "stdout",
     "output_type": "stream",
     "text": [
      "6----------\n",
      "0.3516945\n"
     ]
    }
   ],
   "execution_count": 8
  },
  {
   "cell_type": "code",
   "id": "68e2391b",
   "metadata": {
    "ExecuteTime": {
     "end_time": "2024-10-23T10:00:47.061878Z",
     "start_time": "2024-10-23T10:00:47.052987Z"
    }
   },
   "source": [
    "\n",
    "#TODO: Các bạn thử viết 2 cách khác nhau để tính cosine similarity\n",
    "# giữa 2 vector nhé. Kết quả giống với khi dùng model.similarity() là được\n",
    "# 1 cách là dùng numpy, 1 cách là không dùng numpy nhé\n",
    "\n",
    "# With Numpy\n",
    "\n",
    "import numpy as np\n",
    "\n",
    "\n",
    "def cosine_similarity_with_numpy(vec1, vec2):\n",
    "    dot_product = np.dot(vec1, vec2)\n",
    "    norm_vec1 = np.linalg.norm(vec1)\n",
    "    norm_vec2 = np.linalg.norm(vec2)\n",
    "    return dot_product / (norm_vec1 * norm_vec2)\n",
    "\n",
    "\n",
    "# Example usage\n",
    "\n",
    "vec1 = np.array(model[\"man\"])\n",
    "vec2 = np.array(model[\"woman\"])\n",
    "print(\"Cosine Similarity (with NumPy):\", cosine_similarity_with_numpy(vec1, vec2))"
   ],
   "outputs": [
    {
     "name": "stdout",
     "output_type": "stream",
     "text": [
      "Cosine Similarity (with NumPy): 0.6613606\n"
     ]
    }
   ],
   "execution_count": 10
  },
  {
   "metadata": {
    "ExecuteTime": {
     "end_time": "2024-10-23T10:05:09.574094Z",
     "start_time": "2024-10-23T10:05:09.566209Z"
    }
   },
   "cell_type": "code",
   "source": [
    "# without numpy\n",
    "\n",
    "import math\n",
    "\n",
    "\n",
    "def dot_product(vec1, vec2):\n",
    "    return sum(x * y for x, y in zip(vec1, vec2))\n",
    "\n",
    "\n",
    "def norm(vec):\n",
    "    return math.sqrt(sum(x * x for x in vec))\n",
    "\n",
    "\n",
    "def cosine_similarity_without_numpy(vec1, vec2):\n",
    "    dot = dot_product(vec1, vec2)\n",
    "    norm_vec1 = norm(vec1)\n",
    "    norm_vec2 = norm(vec2)\n",
    "    return dot / (norm_vec1 * norm_vec2)\n",
    "\n",
    "\n",
    "# Example usage\n",
    "vec1 = np.array(model[\"man\"])\n",
    "vec2 = np.array(model[\"woman\"])\n",
    "print(\"Cosine Similarity (without NumPy):\", cosine_similarity_without_numpy(vec1, vec2))"
   ],
   "id": "9245447cd81ff338",
   "outputs": [
    {
     "name": "stdout",
     "output_type": "stream",
     "text": [
      "Cosine Similarity (without NumPy): 0.6613606754242761\n"
     ]
    }
   ],
   "execution_count": 14
  },
  {
   "metadata": {
    "ExecuteTime": {
     "end_time": "2024-10-23T10:04:44.338903Z",
     "start_time": "2024-10-23T10:04:44.333885Z"
    }
   },
   "cell_type": "code",
   "source": "",
   "id": "defcf13a3dfd04ba",
   "outputs": [],
   "execution_count": null
  },
  {
   "metadata": {},
   "cell_type": "code",
   "outputs": [],
   "execution_count": null,
   "source": "",
   "id": "62a99681e72fc18d"
  }
 ],
 "metadata": {
  "language_info": {
   "name": "python"
  },
  "kernelspec": {
   "name": "python3",
   "language": "python",
   "display_name": "Python 3 (ipykernel)"
  }
 },
 "nbformat": 4,
 "nbformat_minor": 5
}
