{
 "cells": [
  {
   "cell_type": "markdown",
   "id": "57dd8d9e",
   "metadata": {},
   "source": [
    "# Exercise 1"
   ]
  },
  {
   "cell_type": "code",
   "id": "7b3bc33d",
   "metadata": {
    "ExecuteTime": {
     "end_time": "2024-10-18T01:54:00.374230Z",
     "start_time": "2024-10-18T01:54:00.248836Z"
    }
   },
   "source": [
    "# Ex1: Write a NumPy program to reverse an array (first element becomes last).\n",
    "# Input: [12 13 14 15 16 17 18 19 20 21 22 23 24 25 26 27 28 29 30 31 32 33 34 35 36 37]\n",
    "\n",
    "import numpy as np\n",
    "\n",
    "input_array = np.array(\n",
    "    [12, 13, 14, 15, 16, 17, 18, 19, 20, 21, 22, 23, 24, 25, 26, 27, 28, 29, 30, 31, 32, 33, 34, 35, 36, 37])\n",
    "\n",
    "# get all the elements but step back by using -1\n",
    "reversed = input_array[::-1]\n",
    "\n",
    "print(reversed)\n"
   ],
   "outputs": [
    {
     "name": "stdout",
     "output_type": "stream",
     "text": [
      "[37 36 35 34 33 32 31 30 29 28 27 26 25 24 23 22 21 20 19 18 17 16 15 14\n",
      " 13 12]\n"
     ]
    }
   ],
   "execution_count": 5
  },
  {
   "cell_type": "markdown",
   "id": "81480123",
   "metadata": {},
   "source": [
    "# Exercise 2 "
   ]
  },
  {
   "cell_type": "code",
   "id": "539714a5",
   "metadata": {
    "ExecuteTime": {
     "end_time": "2024-10-18T01:55:58.447747Z",
     "start_time": "2024-10-18T01:55:58.437622Z"
    }
   },
   "source": [
    "# Ex2: Write a NumPy program to test whether each element of a 1-D array is also present in a second array\n",
    "# Input Array1: [ 0 10 20 40 60]\n",
    "#       Array2: [10, 30, 40]\n",
    "\n",
    "import numpy as np\n",
    "\n",
    "arr1 = np.array([0, 10, 20, 40, 60])\n",
    "arr2 = np.array([10, 30, 40])\n",
    "\n",
    "# use is in to check one by one element\n",
    "result = np.isin(arr1, arr2)\n",
    "\n",
    "# Print the result\n",
    "print(result)\n"
   ],
   "outputs": [
    {
     "name": "stdout",
     "output_type": "stream",
     "text": [
      "[False  True False  True False]\n"
     ]
    }
   ],
   "execution_count": 9
  },
  {
   "cell_type": "markdown",
   "id": "0376138e",
   "metadata": {},
   "source": [
    "# Exercise 3"
   ]
  },
  {
   "cell_type": "code",
   "id": "2080da3c",
   "metadata": {
    "ExecuteTime": {
     "end_time": "2024-10-18T01:57:36.045480Z",
     "start_time": "2024-10-18T01:57:36.034649Z"
    }
   },
   "source": [
    "# Ex3: Write a NumPy program to find the indices of the maximum and minimum values along the given axis of an array\n",
    "# Input Array [1,6,4,8,9,-4,-2,11]\n",
    "\n",
    "import numpy as np\n",
    "\n",
    "input_array = np.array([1, 6, 4, 8, 9, -4, -2, 11])\n",
    "\n",
    "max_pos = np.argmax(input_array)\n",
    "\n",
    "min_pos = np.argmin(input_array)\n",
    "\n",
    "print(f\"Maximum Index: {max_pos}\")\n",
    "print(f\"Minimum Index: {min_pos}\")"
   ],
   "outputs": [
    {
     "name": "stdout",
     "output_type": "stream",
     "text": [
      "Maximum Index: 7\n",
      "Minimum Index: 5\n"
     ]
    }
   ],
   "execution_count": 10
  },
  {
   "cell_type": "markdown",
   "id": "b7b28d2b",
   "metadata": {},
   "source": [
    "# Exercise 4 "
   ]
  },
  {
   "cell_type": "code",
   "id": "edc8dca6",
   "metadata": {
    "ExecuteTime": {
     "end_time": "2024-10-18T02:00:51.910653Z",
     "start_time": "2024-10-18T02:00:51.878883Z"
    }
   },
   "source": [
    "# Ex4: Read the entire file story.txt and write a program to print out top 100 words occur most\n",
    "# frequently and their corresponding appearance. You could ignore all\n",
    "# punction characters such as comma, dot, semicolon, ...\n",
    "# Sample output:\n",
    "# house: 453\n",
    "# dog: 440\n",
    "# people: 312\n",
    "# ...\n",
    "\n",
    "\n",
    "from collections import Counter\n",
    "import re\n",
    "\n",
    "# Function to read the file and return its content\n",
    "def read_file(file_path):\n",
    "    with open(file_path, 'r') as file:\n",
    "        return file.read()\n",
    "\n",
    "\n",
    "# Function to clean the text and return a list of words\n",
    "def clean_text(text):\n",
    "    text = re.sub(r'[^\\w\\s]', '', text)  # Remove punctuation\n",
    "    text = text.lower() \n",
    "    words = text.split() # split text into single words\n",
    "    return words\n",
    "\n",
    "\n",
    "# get top n words from an array\n",
    "def get_top_n_words(words, n=100):\n",
    "    counter = Counter(words)\n",
    "    return counter.most_common(n)\n",
    "\n",
    "\n",
    "# Read file\n",
    "file_path = 'story.txt'\n",
    "text = read_file(file_path)\n",
    "# remove punctuation chars\n",
    "words = clean_text(text)\n",
    "# print top n words according to exercise requirement (i.e 100)\n",
    "top_words = get_top_n_words(words, 100)\n",
    "\n",
    "# Print the top 100 words and their frequencies\n",
    "for word, freq in top_words:\n",
    "    print(f\"{word}: {freq}\")\n"
   ],
   "outputs": [
    {
     "name": "stdout",
     "output_type": "stream",
     "text": [
      "the: 1671\n",
      "and: 872\n",
      "to: 734\n",
      "a: 649\n",
      "it: 541\n",
      "she: 540\n",
      "of: 519\n",
      "said: 467\n",
      "i: 401\n",
      "alice: 391\n",
      "in: 382\n",
      "you: 365\n",
      "was: 359\n",
      "that: 282\n",
      "as: 261\n",
      "her: 253\n",
      "at: 211\n",
      "with: 198\n",
      "on: 191\n",
      "all: 183\n",
      "had: 179\n",
      "but: 168\n",
      "so: 154\n",
      "for: 152\n",
      "be: 150\n",
      "not: 146\n",
      "very: 146\n",
      "this: 142\n",
      "what: 140\n",
      "little: 133\n",
      "they: 130\n",
      "he: 117\n",
      "out: 115\n",
      "its: 114\n",
      "one: 106\n",
      "down: 106\n",
      "is: 105\n",
      "up: 101\n",
      "his: 98\n",
      "about: 94\n",
      "if: 93\n",
      "then: 92\n",
      "no: 89\n",
      "like: 87\n",
      "were: 87\n",
      "them: 86\n",
      "would: 85\n",
      "know: 85\n",
      "again: 84\n",
      "herself: 83\n",
      "or: 82\n",
      "off: 82\n",
      "went: 81\n",
      "do: 80\n",
      "when: 79\n",
      "have: 79\n",
      "could: 78\n",
      "there: 77\n",
      "thought: 73\n",
      "into: 72\n",
      "queen: 72\n",
      "time: 70\n",
      "by: 68\n",
      "me: 68\n",
      "who: 66\n",
      "see: 66\n",
      "how: 64\n",
      "your: 63\n",
      "did: 61\n",
      "king: 61\n",
      "an: 60\n",
      "well: 60\n",
      "dont: 60\n",
      "now: 59\n",
      "mock: 59\n",
      "are: 58\n",
      "turtle: 58\n",
      "began: 58\n",
      "my: 58\n",
      "im: 58\n",
      "quite: 55\n",
      "hatter: 55\n",
      "gryphon: 55\n",
      "some: 54\n",
      "way: 53\n",
      "head: 52\n",
      "think: 52\n",
      "their: 52\n",
      "here: 51\n",
      "much: 51\n",
      "just: 51\n",
      "go: 51\n",
      "which: 50\n",
      "more: 49\n",
      "say: 49\n",
      "first: 49\n",
      "only: 49\n",
      "thing: 49\n",
      "voice: 47\n",
      "looked: 47\n"
     ]
    }
   ],
   "execution_count": 12
  }
 ],
 "metadata": {
  "language_info": {
   "name": "python"
  },
  "kernelspec": {
   "name": "python3",
   "language": "python",
   "display_name": "Python 3 (ipykernel)"
  }
 },
 "nbformat": 4,
 "nbformat_minor": 5
}
