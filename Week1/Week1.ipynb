{
 "cells": [
  {
   "cell_type": "markdown",
   "id": "444d4cd3",
   "metadata": {},
   "source": [
    "# Exercise 1"
   ]
  },
  {
   "cell_type": "code",
   "id": "8a825a5a",
   "metadata": {
    "ExecuteTime": {
     "end_time": "2024-10-07T01:35:43.777650Z",
     "start_time": "2024-10-07T01:35:43.770239Z"
    }
   },
   "source": [
    "# Ex1: Write a program to count positive and negative numbers in a list\n",
    "data1 = [-10, -21, -4, -45, -66, 93, 11, -4, -6, 12, 11, 4, 0, 0, 1, -3]\n",
    "\n",
    "# Init counters\n",
    "positive_count = 0\n",
    "negative_count = 0\n",
    "\n",
    "# check for neg/pos numbers\n",
    "for num in data1:\n",
    "    if num > 0:\n",
    "        positive_count += 1\n",
    "    elif num < 0:\n",
    "        negative_count += 1\n",
    "\n",
    "# Print out\n",
    "print(f\"Positive count: {positive_count}\")\n",
    "print(f\"Negative count: {negative_count}\")"
   ],
   "outputs": [
    {
     "name": "stdout",
     "output_type": "stream",
     "text": [
      "Positive count: 6\n",
      "Negative count: 8\n"
     ]
    }
   ],
   "execution_count": 45
  },
  {
   "metadata": {
    "ExecuteTime": {
     "end_time": "2024-10-07T01:34:49.394814Z",
     "start_time": "2024-10-07T01:34:49.390308Z"
    }
   },
   "cell_type": "code",
   "source": "",
   "id": "91a928649af6cfb0",
   "outputs": [],
   "execution_count": null
  },
  {
   "cell_type": "markdown",
   "id": "5efd9f6c",
   "metadata": {},
   "source": [
    "# Exercise 2"
   ]
  },
  {
   "cell_type": "code",
   "id": "55f64f91",
   "metadata": {
    "ExecuteTime": {
     "end_time": "2024-10-07T01:40:39.325146Z",
     "start_time": "2024-10-07T01:40:39.318909Z"
    }
   },
   "source": [
    "# Ex2: Given a list, extract all elements whose frequency is greater than k.\n",
    "data2 = [4, 6, 4, 3, 3, 4, 3, 4, 3, 8, 6, 6, 6, 6]\n",
    "k = 4\n",
    "\n",
    "from collections import Counter\n",
    "\n",
    "# Count the frequency using the libray Counter or we can loop through the collections and build the maps between numbers and counts\n",
    "frequency = Counter(data2)\n",
    "\n",
    "print(frequency)\n",
    "\n",
    "# Extract the item by looping through the freq items and get the count is higher than k\n",
    "result = [item for item, count in frequency.items() if count > k]\n",
    "\n",
    "print(result)"
   ],
   "outputs": [
    {
     "name": "stdout",
     "output_type": "stream",
     "text": [
      "Counter({6: 5, 4: 4, 3: 4, 8: 1})\n",
      "[6]\n"
     ]
    }
   ],
   "execution_count": 55
  },
  {
   "cell_type": "markdown",
   "id": "809e604f",
   "metadata": {},
   "source": [
    "# Exercise 3"
   ]
  },
  {
   "cell_type": "code",
   "id": "261fb4ca",
   "metadata": {
    "ExecuteTime": {
     "end_time": "2024-10-07T01:43:02.174182Z",
     "start_time": "2024-10-07T01:43:02.168344Z"
    }
   },
   "source": [
    "# Ex3: find the strongest neighbour. Given an array of N positive integers.\n",
    "# The task is to find the maximum for every adjacent pair in the array.\n",
    "data3 = [4, 5, 6, 7, 3, 9, 11, 2, 10]\n",
    "\n",
    "strongest_neighbours = []\n",
    "\n",
    "# Iterate through the list and find the maximum for each adjacent pair\n",
    "for i in range(len(data3) - 1):\n",
    "    if data3[i] >= data3[i+1]:\n",
    "        strongest_neighbours.append(data3[i])\n",
    "    else:\n",
    "        strongest_neighbours.append(data3[i+1])\n",
    "    #strongest_neighbours.append(max(data3[i], data3[i+1]))\n",
    "\n",
    "# Print the results\n",
    "print(strongest_neighbours)"
   ],
   "outputs": [
    {
     "name": "stdout",
     "output_type": "stream",
     "text": [
      "[5, 6, 7, 7, 9, 11, 11, 10]\n"
     ]
    }
   ],
   "execution_count": 59
  },
  {
   "cell_type": "markdown",
   "id": "0f6d44b6",
   "metadata": {},
   "source": [
    "# Exercise 4"
   ]
  },
  {
   "cell_type": "code",
   "id": "bd4592e2",
   "metadata": {
    "ExecuteTime": {
     "end_time": "2024-10-07T01:55:22.026287Z",
     "start_time": "2024-10-07T01:55:22.016563Z"
    }
   },
   "source": [
    "# Ex4: print all Possible Combinations from the three Digits\n",
    "data4 = [1, 2, 3, 4]\n",
    "\n",
    "#Using recursion solution\n",
    "def generate_combinations(data, temp, result):\n",
    "    if len(temp) == len(data): # meet the target length => stop condition\n",
    "        result.append(temp[:])\n",
    "        return\n",
    "    for num in data: #Loop through the array and don't add the number that already existed in temp array\n",
    "        if num not in temp:\n",
    "            temp.append(num)\n",
    "            generate_combinations(data, temp, result)\n",
    "            temp.pop()\n",
    "\n",
    "# List to store all combinations\n",
    "targets = []\n",
    "generate_combinations(data4, [], targets)\n",
    "\n",
    "# Print all combinations\n",
    "for target in targets:\n",
    "    print(target)"
   ],
   "outputs": [
    {
     "name": "stdout",
     "output_type": "stream",
     "text": [
      "[1, 2, 3, 4]\n",
      "[1, 2, 4, 3]\n",
      "[1, 3, 2, 4]\n",
      "[1, 3, 4, 2]\n",
      "[1, 4, 2, 3]\n",
      "[1, 4, 3, 2]\n",
      "[2, 1, 3, 4]\n",
      "[2, 1, 4, 3]\n",
      "[2, 3, 1, 4]\n",
      "[2, 3, 4, 1]\n",
      "[2, 4, 1, 3]\n",
      "[2, 4, 3, 1]\n",
      "[3, 1, 2, 4]\n",
      "[3, 1, 4, 2]\n",
      "[3, 2, 1, 4]\n",
      "[3, 2, 4, 1]\n",
      "[3, 4, 1, 2]\n",
      "[3, 4, 2, 1]\n",
      "[4, 1, 2, 3]\n",
      "[4, 1, 3, 2]\n",
      "[4, 2, 1, 3]\n",
      "[4, 2, 3, 1]\n",
      "[4, 3, 1, 2]\n",
      "[4, 3, 2, 1]\n"
     ]
    }
   ],
   "execution_count": 62
  },
  {
   "cell_type": "markdown",
   "id": "50470ca9",
   "metadata": {},
   "source": [
    "# Exercise 5"
   ]
  },
  {
   "cell_type": "code",
   "id": "18ff641f",
   "metadata": {
    "ExecuteTime": {
     "end_time": "2024-10-09T13:21:27.537696Z",
     "start_time": "2024-10-09T13:21:27.528311Z"
    }
   },
   "source": [
    "# Ex5: Given two matrices (2 nested lists), the task is to write a Python program\n",
    "# to add elements to each row from initial matrix.\n",
    "# For example: Input : test_list1 = [[4, 3, 5,], [1, 2, 3], [3, 7, 4]], test_list2 = [[1], [9], [8]]\n",
    "# Output : [[4, 3, 5, 1], [1, 2, 3, 9], [3, 7, 4, 8]]\n",
    "data5_list1 = [[4, 3, 5, ], [1, 2, 3], [3, 7, 4]]\n",
    "data5_list2 = [[1, 3], [9, 3, 5, 7], [8]]\n",
    "\n",
    "\n",
    "# Điều kiệm sử dụng zip là số phần tử phải bằng nhau để có thể đối chiếu\n",
    "result = [row1 + row2 for row1, row2 in zip(data5_list1, data5_list2)]\n",
    "\n",
    "print(result)"
   ],
   "outputs": [
    {
     "name": "stdout",
     "output_type": "stream",
     "text": [
      "[[4, 3, 5, 1, 3], [1, 2, 3, 9, 3, 5, 7], [3, 7, 4, 8]]\n"
     ]
    }
   ],
   "execution_count": 1
  },
  {
   "cell_type": "markdown",
   "id": "cfa5c314",
   "metadata": {},
   "source": [
    "# Exercise 6"
   ]
  },
  {
   "cell_type": "code",
   "id": "3148bbe9",
   "metadata": {
    "ExecuteTime": {
     "end_time": "2024-10-09T13:26:22.411195Z",
     "start_time": "2024-10-09T13:26:22.404838Z"
    }
   },
   "source": [
    "# Ex6:  Write a program which will find all such numbers which are divisible by 7\n",
    "# but are not a multiple of 5, between 2000 and 3200 (both included).\n",
    "# The numbers obtained should be printed in a comma-separated sequence on a single line.\n",
    "\n",
    "result = [str(num) for num in range(2000, 3201) if num % 7 == 0 and num % 5 != 0]\n",
    "\n",
    "print(\",\".join(result))"
   ],
   "outputs": [
    {
     "name": "stdout",
     "output_type": "stream",
     "text": [
      "2002,2009,2016,2023,2037,2044,2051,2058,2072,2079,2086,2093,2107,2114,2121,2128,2142,2149,2156,2163,2177,2184,2191,2198,2212,2219,2226,2233,2247,2254,2261,2268,2282,2289,2296,2303,2317,2324,2331,2338,2352,2359,2366,2373,2387,2394,2401,2408,2422,2429,2436,2443,2457,2464,2471,2478,2492,2499,2506,2513,2527,2534,2541,2548,2562,2569,2576,2583,2597,2604,2611,2618,2632,2639,2646,2653,2667,2674,2681,2688,2702,2709,2716,2723,2737,2744,2751,2758,2772,2779,2786,2793,2807,2814,2821,2828,2842,2849,2856,2863,2877,2884,2891,2898,2912,2919,2926,2933,2947,2954,2961,2968,2982,2989,2996,3003,3017,3024,3031,3038,3052,3059,3066,3073,3087,3094,3101,3108,3122,3129,3136,3143,3157,3164,3171,3178,3192,3199\n"
     ]
    }
   ],
   "execution_count": 4
  },
  {
   "metadata": {},
   "cell_type": "markdown",
   "source": "",
   "id": "fb204d2d8c7dd609"
  },
  {
   "cell_type": "markdown",
   "id": "b896526c",
   "metadata": {},
   "source": [
    "# Exercise 7"
   ]
  },
  {
   "cell_type": "code",
   "id": "3fd31ee6",
   "metadata": {
    "ExecuteTime": {
     "end_time": "2024-10-09T13:26:24.657876Z",
     "start_time": "2024-10-09T13:26:24.649094Z"
    }
   },
   "source": [
    "# Ex7: Write a program, which will find all such numbers between 1000 and 3000 (both included) such that each digit of the number is an even number.\n",
    "# The numbers obtained should be printed in a comma-separated sequence on a single line.\n",
    "\n",
    "def all_digits_even(number):\n",
    "    return all(int(digit) % 2 == 0 for digit in str(number))\n",
    "\n",
    "\n",
    "result = [str(num) for num in range(1000, 3001) if all_digits_even(num)]\n",
    "\n",
    "print(\",\".join(result))\n"
   ],
   "outputs": [
    {
     "name": "stdout",
     "output_type": "stream",
     "text": [
      "2000,2002,2004,2006,2008,2020,2022,2024,2026,2028,2040,2042,2044,2046,2048,2060,2062,2064,2066,2068,2080,2082,2084,2086,2088,2200,2202,2204,2206,2208,2220,2222,2224,2226,2228,2240,2242,2244,2246,2248,2260,2262,2264,2266,2268,2280,2282,2284,2286,2288,2400,2402,2404,2406,2408,2420,2422,2424,2426,2428,2440,2442,2444,2446,2448,2460,2462,2464,2466,2468,2480,2482,2484,2486,2488,2600,2602,2604,2606,2608,2620,2622,2624,2626,2628,2640,2642,2644,2646,2648,2660,2662,2664,2666,2668,2680,2682,2684,2686,2688,2800,2802,2804,2806,2808,2820,2822,2824,2826,2828,2840,2842,2844,2846,2848,2860,2862,2864,2866,2868,2880,2882,2884,2886,2888\n"
     ]
    }
   ],
   "execution_count": 5
  },
  {
   "metadata": {},
   "cell_type": "markdown",
   "source": "",
   "id": "95de6f20a985950e"
  },
  {
   "cell_type": "markdown",
   "id": "c8846efd",
   "metadata": {},
   "source": [
    "# Exercise 8"
   ]
  },
  {
   "cell_type": "code",
   "id": "a8c0011d",
   "metadata": {
    "ExecuteTime": {
     "end_time": "2024-10-11T06:41:09.831918Z",
     "start_time": "2024-10-11T06:41:04.532698Z"
    }
   },
   "source": [
    "# Ex8: Let user type 2 words in English as input. Print out the output\n",
    "# which is the shortest chain according to the following rules:\n",
    "# - Each word in the chain has at least 3 letters\n",
    "# - The 2 input words from user will be used as the first and the last words of the chain\n",
    "# - 2 last letters of 1 word will be the same as 2 first letters of the next word in the chain\n",
    "# - All the words are from the file wordsEn.txt\n",
    "# - If there are multiple shortest chains, return any of them is sufficient\n",
    "\n",
    "\n",
    "from collections import deque\n",
    "\n",
    "\n",
    "def load_words(file_path):\n",
    "    with open(file_path, 'r') as file:\n",
    "        # chỉ giữ lại word có độ dài ?= 3\n",
    "        words = [line.strip() for line in file if len(line.strip()) >= 3]\n",
    "    return words\n",
    "\n",
    "\n",
    "def build_graph(words):\n",
    "    graph = {}\n",
    "    # loop hết các từ có trong file được đọc\n",
    "    for word in words:\n",
    "        # lâ 2 kí tự đầu \n",
    "        key = word[:2]\n",
    "        # nếu key 2 chữ này chưa tồn tại thì tạo 1 key mới trong dictionary\n",
    "        if key not in graph:\n",
    "            graph[key] = [word]\n",
    "        else: # nếu chưa có th sẽ append thêm word vào\n",
    "            graph[key].append(word)\n",
    "    return graph\n",
    "\n",
    "\n",
    "def find_shortest_chain(start, end, words):\n",
    "    # xây dựng cây từ file đầu vào\n",
    "    graph = build_graph(words)\n",
    "    \n",
    "    queue = deque([(start, [start])])\n",
    "    visited = set()\n",
    "\n",
    "    while queue:\n",
    "        current_word, path = queue.popleft() #remove và trả về kí tự bên trái cùng của hàng đợi ==> đảm bảo rằng các element được add vào đầu tiên sẽ được xử lý trước\n",
    "        visited.add(current_word)\n",
    "\n",
    "        if current_word[-2:] == end[:2]: # nếu 2 chu cuối của current word = với 2 chữ đầu của từ thứ 2 ==> kết thúc\n",
    "            return path + [end]\n",
    "    \n",
    "        # Nếu không, kiếm từ tiếp theo trong danh sách graph được build ở trên\n",
    "        for next_word in graph.get(current_word[-2:], []):\n",
    "            # nếu gặp từ chưa đc xử lý ( chưa có trong visited ==> append vào queue\n",
    "            if next_word not in visited:\n",
    "                queue.append((next_word, path + [next_word]))\n",
    "\n",
    "    return []\n",
    "\n",
    "\n",
    "# Nhập vào 2 từ đầu vào\n",
    "word1 = input(\"Enter the first word: \").strip()\n",
    "word2 = input(\"Enter the second word: \").strip()\n",
    "\n",
    "# Đọc file wordsEn.txt\n",
    "words = load_words('wordsEn.txt')\n",
    "\n",
    "\n",
    "# Tìm đường ngắn nhất\n",
    "# word1 = từ thứ 1\n",
    "# word2 = từ thứ 2\n",
    "# words = danh sách các từ đọc từ file\n",
    "shortest_chain = find_shortest_chain(word1, word2, words)\n",
    "\n",
    "# In ra kết quả\n",
    "if shortest_chain:\n",
    "    print(\" -> \".join(shortest_chain))\n",
    "else:\n",
    "    print(\"No chain found that connects the two words.\")"
   ],
   "outputs": [
    {
     "name": "stdout",
     "output_type": "stream",
     "text": [
      "cat -> atheistical -> albedo -> dog\n"
     ]
    }
   ],
   "execution_count": 5
  }
 ],
 "metadata": {
  "kernelspec": {
   "name": "python3",
   "language": "python",
   "display_name": "Python 3 (ipykernel)"
  }
 },
 "nbformat": 4,
 "nbformat_minor": 5
}
